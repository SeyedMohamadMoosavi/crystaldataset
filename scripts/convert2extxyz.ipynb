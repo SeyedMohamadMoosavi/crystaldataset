{
 "cells": [
  {
   "cell_type": "code",
   "execution_count": 6,
   "id": "055539cb",
   "metadata": {},
   "outputs": [],
   "source": [
    "from ase.io import read, write, cif, extxyz\n",
    "import re"
   ]
  },
  {
   "cell_type": "code",
   "execution_count": 7,
   "id": "6914b5fa",
   "metadata": {},
   "outputs": [],
   "source": [
    "def read_cifs(filename):\n",
    "    lines = open(filename).readlines()\n",
    "    idxs = [0]\n",
    "    for i,line in enumerate(lines):\n",
    "        if \"#END\" in line:\n",
    "            idxs.append(i)\n",
    "    cifs = []\n",
    "    for i,idx in enumerate(idxs[1:]):\n",
    "        curcif = []\n",
    "        if i==0:\n",
    "            for j,line in enumerate(lines[idxs[i]:idx]):\n",
    "                if not ((j<5) and (j>=1)):\n",
    "                    curcif.append(line)\n",
    "        else:\n",
    "            for j,line in enumerate(lines[idxs[i]+1:idx]):\n",
    "                if not ((j<5) and (j>=1)):\n",
    "                    curcif.append(line)\n",
    "        cifs.append(curcif)\n",
    "    return cifs"
   ]
  },
  {
   "cell_type": "code",
   "execution_count": 25,
   "id": "bf9c9a21",
   "metadata": {},
   "outputs": [],
   "source": [
    "def convertCIF2EXTXYZ(ciffile,xyzname,numatom_molecule):\n",
    "    cifs = read_cifs(ciffile)\n",
    "    cif_energies = []\n",
    "    for i,cif in enumerate(cifs):\n",
    "        txt = cif[0][2:].split(\"_\")[1]\n",
    "        cif_energies.append(float(txt))\n",
    "    cif_atoms = []\n",
    "    for cif,energy in zip(cifs,cif_energies):\n",
    "        with open(\"tmpcif.cif\",\"w\") as fo:\n",
    "            for line in cif:\n",
    "                fo.write(line)\n",
    "        curcif = read(\"tmpcif.cif\")\n",
    "        nummols = curcif.get_number_of_atoms()/numatom_molecule\n",
    "        if nummols.is_integer():\n",
    "            curcif.info[\"energy\"]=energy*nummols\n",
    "            cif_atoms.append(curcif)\n",
    "        else: \n",
    "            break\n",
    "    \n",
    "    write(xyzname,cif_atoms)"
   ]
  },
  {
   "cell_type": "code",
   "execution_count": 26,
   "id": "92b4cf68",
   "metadata": {},
   "outputs": [],
   "source": [
    "molecule_names = [\"P1M\",\"P1\",\"P2M\",\"P2\",\"S1\",\"S2\",\"T0\",\"T1\",\"T2E\",\"T2\"]\n",
    "molecule_dict = {\n",
    "    \"T2\": 46,\n",
    "    \"T0\": 34\n",
    "}\n",
    "# molecule_names = [\"T0\"]"
   ]
  },
  {
   "cell_type": "code",
   "execution_count": 29,
   "id": "70db1148",
   "metadata": {},
   "outputs": [
    {
     "name": "stdout",
     "output_type": "stream",
     "text": [
      "T2\n",
      "T0\n"
     ]
    }
   ],
   "source": [
    "for name in molecule_dict.keys():\n",
    "    print(name)\n",
    "    convertCIF2EXTXYZ(\"{}_Predicted_Structures.cif\".format(name),\"{}.extxyz\".format(name), numatom_molecule=molecule_dict[name])"
   ]
  }
 ],
 "metadata": {
  "kernelspec": {
   "display_name": "Python 3 (ipykernel)",
   "language": "python",
   "name": "python3"
  },
  "language_info": {
   "codemirror_mode": {
    "name": "ipython",
    "version": 3
   },
   "file_extension": ".py",
   "mimetype": "text/x-python",
   "name": "python",
   "nbconvert_exporter": "python",
   "pygments_lexer": "ipython3",
   "version": "3.9.7"
  }
 },
 "nbformat": 4,
 "nbformat_minor": 5
}
